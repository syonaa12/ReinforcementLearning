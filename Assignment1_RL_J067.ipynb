{
 "cells": [
  {
   "cell_type": "code",
   "execution_count": 13,
   "id": "1c3901dd",
   "metadata": {},
   "outputs": [
    {
     "name": "stdout",
     "output_type": "stream",
     "text": [
      "Requirement already satisfied: gymnasium[box2d] in ./anaconda3/lib/python3.11/site-packages (1.2.0)\n",
      "Requirement already satisfied: pygame in ./anaconda3/lib/python3.11/site-packages (2.6.1)\n",
      "Requirement already satisfied: numpy>=1.21.0 in ./anaconda3/lib/python3.11/site-packages (from gymnasium[box2d]) (1.24.3)\n",
      "Requirement already satisfied: cloudpickle>=1.2.0 in ./anaconda3/lib/python3.11/site-packages (from gymnasium[box2d]) (2.2.1)\n",
      "Requirement already satisfied: typing-extensions>=4.3.0 in ./anaconda3/lib/python3.11/site-packages (from gymnasium[box2d]) (4.5.0)\n",
      "Requirement already satisfied: farama-notifications>=0.0.1 in ./anaconda3/lib/python3.11/site-packages (from gymnasium[box2d]) (0.0.4)\n",
      "Requirement already satisfied: box2d-py==2.3.5 in ./anaconda3/lib/python3.11/site-packages (from gymnasium[box2d]) (2.3.5)\n",
      "Requirement already satisfied: swig==4.* in ./anaconda3/lib/python3.11/site-packages (from gymnasium[box2d]) (4.3.1)\n",
      "Note: you may need to restart the kernel to use updated packages.\n"
     ]
    }
   ],
   "source": [
    "pip install \"gymnasium[box2d]\" pygame\n"
   ]
  },
  {
   "cell_type": "code",
   "execution_count": 14,
   "id": "c0211a9d",
   "metadata": {},
   "outputs": [
    {
     "data": {
      "image/png": "[encoded data removed]",
      "text/plain": [
       "<Figure size 640x480 with 1 Axes>"
      ]
     },
     "metadata": {},
     "output_type": "display_data"
    }
   ],
   "source": [
    "import gymnasium as gym\n",
    "import matplotlib.pyplot as plt\n",
    "from IPython.display import display, clear_output\n",
    "import time\n",
    "\n",
    "env = gym.make(\"MountainCar-v0\", render_mode=\"rgb_array\")\n",
    "obs, info = env.reset()\n",
    "\n",
    "for _ in range(200):\n",
    "    action = env.action_space.sample()\n",
    "    obs, reward, terminated, truncated, info = env.step(action)\n",
    "    \n",
    "    frame = env.render()\n",
    "    plt.imshow(frame)\n",
    "    plt.axis(\"off\")\n",
    "    display(plt.gcf())\n",
    "    clear_output(wait=True)\n",
    "    time.sleep(0.05)\n",
    "\n",
    "    if terminated or truncated:\n",
    "        obs, info = env.reset()\n",
    "\n",
    "env.close()\n"
   ]
  },
  {
   "cell_type": "code",
   "execution_count": null,
   "id": "74d96d80",
   "metadata": {},
   "outputs": [],
   "source": [
    "#Observation Space: Continuous Box of shape (2,): Position and velocity of the car.\n",
    "#Action Space: Discrete(3):\n",
    "               # 0 – Push Left\n",
    "               # 1 – Do Nothing\n",
    "               # 2 – Push Right"
   ]
  },
  {
   "cell_type": "code",
   "execution_count": null,
   "id": "d5855310",
   "metadata": {},
   "outputs": [],
   "source": [
    "# Goal: Drive the car up the right hill (reach position ≥ 0.5)\n",
    "# Epsiode Duration: Ends when the car reaches the goal or 200 steps max\n",
    "# Challenges: The car’s engine is not strong enough to climb directly; must gain momentum by swinging left and right (requires planning and energy buildup). "
   ]
  },
  {
   "cell_type": "code",
   "execution_count": 16,
   "id": "e6362b06",
   "metadata": {},
   "outputs": [
    {
     "data": {
      "image/png": "[encoded data removed]",
      "text/plain": [
       "<Figure size 640x480 with 1 Axes>"
      ]
     },
     "metadata": {},
     "output_type": "display_data"
    }
   ],
   "source": [
    "import gymnasium as gym\n",
    "import matplotlib.pyplot as plt\n",
    "from IPython.display import display, clear_output\n",
    "import time\n",
    "\n",
    "env = gym.make(\"Acrobot-v1\", render_mode=\"rgb_array\")\n",
    "obs, info = env.reset()\n",
    "\n",
    "for _ in range(500):\n",
    "    action = env.action_space.sample() \n",
    "    obs, reward, terminated, truncated, info = env.step(action)\n",
    "\n",
    "    frame = env.render()\n",
    "\n",
    "    plt.imshow(frame)\n",
    "    plt.axis(\"off\")\n",
    "    display(plt.gcf())\n",
    "    clear_output(wait=True)\n",
    "    time.sleep(0.03)  \n",
    "\n",
    "    if terminated or truncated:\n",
    "        obs, info = env.reset()\n",
    "\n",
    "env.close()\n"
   ]
  },
  {
   "cell_type": "code",
   "execution_count": null,
   "id": "acd5cf08",
   "metadata": {},
   "outputs": [],
   "source": [
    "#Observation Space: Continuous Box of shape (6,): Includes cos and sin of joint angles and angular velocities.\n",
    "#Action Space: Discrete(3):\n",
    "                #0 – Apply torque -1\n",
    "                #1 – Apply torque 0\n",
    "                #2 – Apply torque +1\n",
    "            "
   ]
  },
  {
   "cell_type": "code",
   "execution_count": null,
   "id": "0d874f3b",
   "metadata": {},
   "outputs": [],
   "source": [
    "# Goal: Swing the lower link up so that the tip reaches a height above the base\n",
    "# Epsiode Duration: Ends when the goal is reached or after 500 time steps\n",
    "# Challenges: Underactuated system (one motor, two links), high-dimensional and non-linear dynamics. Requires coordination of energy to swing up and stabilize."
   ]
  }
 ],
 "metadata": {
  "kernelspec": {
   "display_name": "Python 3 (ipykernel)",
   "language": "python",
   "name": "python3"
  },
  "language_info": {
   "codemirror_mode": {
    "name": "ipython",
    "version": 3
   },
   "file_extension": ".py",
   "mimetype": "text/x-python",
   "name": "python",
   "nbconvert_exporter": "python",
   "pygments_lexer": "ipython3",
   "version": "3.11.5"
  }
 },
 "nbformat": 4,
 "nbformat_minor": 5
}
